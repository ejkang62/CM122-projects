{
 "cells": [
  {
   "cell_type": "code",
   "execution_count": 1,
   "metadata": {
    "collapsed": false
   },
   "outputs": [],
   "source": [
    "import numpy as np\n",
    "import itertools\n",
    "from collections import defaultdict"
   ]
  },
  {
   "cell_type": "code",
   "execution_count": 8,
   "metadata": {
    "collapsed": true
   },
   "outputs": [],
   "source": [
    "# Given 4 viral strains, 10k-length each;\n",
    "# Find the relative frequencies of each different viral genome\n",
    "\n",
    "# 1) Do some alignment to each of 4 genomes\n",
    "# 2) Identify which genome each read comes from \n",
    "#      (this may be impossible)  -- most of the viral genomes\n",
    "#      are identical to each other.\n",
    "# 3) Once we quantify the number of reads for each genome\n",
    "#    Compute the set of frequencies that most likely generates \n",
    "#    them.\n",
    "\n"
   ]
  },
  {
   "cell_type": "code",
   "execution_count": 9,
   "metadata": {
    "collapsed": true
   },
   "outputs": [],
   "source": [
    "# Reduce the problem:\n",
    "\n",
    "## Just consider the SNPs ==> 5 SNPs\n",
    "## We observe the aggregate frequency of each SNP\n",
    "## Compute the frequencies of each individual strain.\n",
    "\n"
   ]
  },
  {
   "cell_type": "code",
   "execution_count": 11,
   "metadata": {
    "collapsed": false,
    "scrolled": true
   },
   "outputs": [],
   "source": [
    "## Generate some test data\n",
    "\n",
    "# 4 strains x 5 SNPs\n",
    "\n",
    "def generate_test_SNPs(coverage=100, set_seed=True, strain_freqs=[.4, .2, .15, .1, .1, .05], n_snps=10):\n",
    "    ## We're going to assume there is overlap between\n",
    "    ## Strains for each SNP.\n",
    "    \n",
    "    if set_seed: np.random.seed(96000)\n",
    "    \n",
    "    n_strains = len(strain_freqs)\n",
    "    assert sum(strain_freqs) == 1\n",
    "    \n",
    "    powerset_iterable = itertools.chain.from_iterable(itertools.combinations(range(n_strains), r)\n",
    "                                             for r in range(2, n_strains))\n",
    "    \n",
    "    frozen_powerset = [index_tuple for index_tuple in powerset_iterable]\n",
    "    \n",
    "    while True:\n",
    "        these_indices = np.random.choice(frozen_powerset, n_snps)\n",
    "        output_strains = [[] for i in range(n_strains)]\n",
    "        for index_list in these_indices:\n",
    "            for i in range(len(output_strains)):\n",
    "                if i in index_list:\n",
    "                    output_strains[i].append(1)\n",
    "                else:\n",
    "                    output_strains[i].append(0)\n",
    "                    \n",
    "        output_strains = [tuple(strain) for strain in output_strains]\n",
    "        n_unique_strains = len(set(output_strains))\n",
    "        # test if it satisfies a few conditions \n",
    "        # if it does, we return\n",
    "        #otherwise; loop back and try again\n",
    "        if n_unique_strains == n_strains:\n",
    "            break\n",
    "    \n",
    "#     for freq, strain in zip(strain_freqs, output_strains):\n",
    "#         print freq, strain\n",
    "        \n",
    "    \n",
    "    sampled_strains = np.random.choice(range(n_strains),\n",
    "                                       size=coverage*n_strains,\n",
    "                                       p=strain_freqs)\n",
    "    \n",
    "    output_snp_counts = defaultdict(list)\n",
    "    \n",
    "    for strain_index in sampled_strains:\n",
    "        snp_index = np.random.choice(range(10))\n",
    "        snp_value = output_strains[strain_index][snp_index]\n",
    "        output_snp_counts[snp_index].append(snp_value)\n",
    "    \n",
    "#     print sampled_strains\n",
    "    \n",
    "    output_snp_freqs = {k: float(sum(v))/len(v) for k,v in \n",
    "                       output_snp_counts.items()}\n",
    "    \n",
    "#     for k, v in output_snp_counts.items(): print k, v[:10]\n",
    "#     for k, v in output_snp_freqs.items(): print k, v\n",
    "    return output_snp_counts, output_strains\n",
    "\n",
    "\n",
    "    \n",
    "\n",
    "## Solve the problem using given test data\n",
    "\n",
    "# generate_test_SNPs()"
   ]
  },
  {
   "cell_type": "code",
   "execution_count": 6,
   "metadata": {
    "collapsed": false
   },
   "outputs": [
    {
     "ename": "NameError",
     "evalue": "name 'generate_test_SNPs' is not defined",
     "output_type": "error",
     "traceback": [
      "\u001b[0;31m---------------------------------------------------------------------------\u001b[0m",
      "\u001b[0;31mNameError\u001b[0m                                 Traceback (most recent call last)",
      "\u001b[0;32m<ipython-input-6-31b652712dff>\u001b[0m in \u001b[0;36m<module>\u001b[0;34m()\u001b[0m\n\u001b[0;32m----> 1\u001b[0;31m \u001b[0minput_snp_counts\u001b[0m\u001b[0;34m,\u001b[0m \u001b[0minput_strains\u001b[0m \u001b[0;34m=\u001b[0m \u001b[0mgenerate_test_SNPs\u001b[0m\u001b[0;34m(\u001b[0m\u001b[0mcoverage\u001b[0m\u001b[0;34m=\u001b[0m\u001b[0;36m1000\u001b[0m\u001b[0;34m)\u001b[0m\u001b[0;34m\u001b[0m\u001b[0m\n\u001b[0m\u001b[1;32m      2\u001b[0m \u001b[0;34m\u001b[0m\u001b[0m\n\u001b[1;32m      3\u001b[0m \u001b[0;32mfor\u001b[0m \u001b[0mk\u001b[0m\u001b[0;34m,\u001b[0m \u001b[0mv\u001b[0m \u001b[0;32min\u001b[0m \u001b[0minput_snp_counts\u001b[0m\u001b[0;34m.\u001b[0m\u001b[0mitems\u001b[0m\u001b[0;34m(\u001b[0m\u001b[0;34m)\u001b[0m\u001b[0;34m:\u001b[0m \u001b[0;32mprint\u001b[0m \u001b[0mk\u001b[0m\u001b[0;34m,\u001b[0m \u001b[0mv\u001b[0m\u001b[0;34m[\u001b[0m\u001b[0;34m:\u001b[0m\u001b[0;36m10\u001b[0m\u001b[0;34m]\u001b[0m\u001b[0;34m\u001b[0m\u001b[0m\n\u001b[1;32m      4\u001b[0m \u001b[0;34m\u001b[0m\u001b[0m\n\u001b[1;32m      5\u001b[0m \u001b[0;32mdef\u001b[0m \u001b[0mget_freqs_from_strains_and_counts\u001b[0m\u001b[0;34m(\u001b[0m\u001b[0minput_snp_counts\u001b[0m\u001b[0;34m,\u001b[0m \u001b[0minput_strains\u001b[0m\u001b[0;34m)\u001b[0m\u001b[0;34m:\u001b[0m\u001b[0;34m\u001b[0m\u001b[0m\n",
      "\u001b[0;31mNameError\u001b[0m: name 'generate_test_SNPs' is not defined"
     ]
    }
   ],
   "source": [
    "input_snp_counts, input_strains = generate_test_SNPs(coverage=1000)\n",
    "\n",
    "for k, v in input_snp_counts.items(): print k, v[:10]\n",
    "\n",
    "def get_freqs_from_strains_and_counts(input_snp_counts, input_strains):\n",
    "#     print input_snp_count\n",
    "    snp_freqs = []\n",
    "    for k in range(10):\n",
    "        raw_snps = input_snp_counts[k]\n",
    "        snp_freq = float(sum(raw_snps))/len(raw_snps)\n",
    "        snp_freqs.append(snp_freq)\n",
    "    \n",
    "    snp_freqs = np.array(snp_freqs)\n",
    "    \n",
    "    strain_matrix = np.array(input_strains)\n",
    "    print strain_matrix\n",
    "    \n",
    "    strain_freqs = np.linalg.lstsq(strain_matrix.T, snp_freqs)\n",
    "    for freq, strain in zip(strain_freqs[0], input_strains):\n",
    "        print freq, strain\n",
    "    return\n",
    "    \n",
    "get_freqs_from_strains_and_counts(input_snp_counts, input_strains)"
   ]
  },
  {
   "cell_type": "code",
   "execution_count": 26,
   "metadata": {
    "collapsed": false
   },
   "outputs": [
    {
     "ename": "AttributeError",
     "evalue": "'list' object has no attribute 'items'",
     "output_type": "error",
     "traceback": [
      "\u001b[0;31m---------------------------------------------------------------------------\u001b[0m",
      "\u001b[0;31mAttributeError\u001b[0m                            Traceback (most recent call last)",
      "\u001b[0;32m<ipython-input-26-20c640ad1857>\u001b[0m in \u001b[0;36m<module>\u001b[0;34m()\u001b[0m\n\u001b[1;32m      3\u001b[0m 0.47619047619047616, 0.7471264367816092]\n\u001b[1;32m      4\u001b[0m \u001b[0;34m\u001b[0m\u001b[0m\n\u001b[0;32m----> 5\u001b[0;31m \u001b[0;32mfor\u001b[0m \u001b[0mk\u001b[0m\u001b[0;34m,\u001b[0m \u001b[0mv\u001b[0m \u001b[0;32min\u001b[0m \u001b[0minput_snp_counts\u001b[0m\u001b[0;34m.\u001b[0m\u001b[0mitems\u001b[0m\u001b[0;34m(\u001b[0m\u001b[0;34m)\u001b[0m\u001b[0;34m:\u001b[0m \u001b[0;32mprint\u001b[0m \u001b[0mk\u001b[0m\u001b[0;34m,\u001b[0m \u001b[0mv\u001b[0m\u001b[0;34m[\u001b[0m\u001b[0;34m:\u001b[0m\u001b[0;36m10\u001b[0m\u001b[0;34m]\u001b[0m\u001b[0;34m\u001b[0m\u001b[0m\n\u001b[0m\u001b[1;32m      6\u001b[0m \u001b[0;34m\u001b[0m\u001b[0m\n\u001b[1;32m      7\u001b[0m \u001b[0;32mdef\u001b[0m \u001b[0mget_freqs_from_strains_and_counts\u001b[0m\u001b[0;34m(\u001b[0m\u001b[0minput_snp_counts\u001b[0m\u001b[0;34m,\u001b[0m \u001b[0minput_strains\u001b[0m\u001b[0;34m)\u001b[0m\u001b[0;34m:\u001b[0m\u001b[0;34m\u001b[0m\u001b[0m\n",
      "\u001b[0;31mAttributeError\u001b[0m: 'list' object has no attribute 'items'"
     ]
    }
   ],
   "source": [
    "input_snp_counts =  [[1,1,1,1,1,1,1],[0,0,0,1,1,0,0],[1,1,0,0,1,0,1],[0,0,1,0,0,1,1]]\n",
    "input_strains = [0.6601941747572816, 0.6235294117647059, 0.4074074074074074, 0.8155339805825242, 0.9393939393939394,\n",
    "0.47619047619047616, 0.7471264367816092]\n",
    "\n",
    "for k, v in input_snp_counts.items(): print k, v[:10]\n",
    "\n",
    "def get_freqs_from_strains_and_counts(input_snp_counts, input_strains):\n",
    "#     print input_snp_count\n",
    "    snp_freqs = []\n",
    "    for k in range(10):\n",
    "        raw_snps = input_snp_counts[k]\n",
    "        snp_freq = float(sum(raw_snps))/len(raw_snps)\n",
    "        snp_freqs.append(snp_freq)\n",
    "    \n",
    "    snp_freqs = np.array(snp_freqs)\n",
    "    \n",
    "    strain_matrix = np.array(input_strains)\n",
    "    print strain_matrix\n",
    "    \n",
    "    strain_freqs = np.linalg.lstsq(strain_matrix.T, snp_freqs)\n",
    "    for freq, strain in zip(strain_freqs[0], input_strains):\n",
    "        print freq, strain\n",
    "    return\n",
    "    \n",
    "get_freqs_from_strains_and_counts(input_snp_counts, input_strains)"
   ]
  },
  {
   "cell_type": "code",
   "execution_count": null,
   "metadata": {
    "collapsed": true
   },
   "outputs": [],
   "source": []
  }
 ],
 "metadata": {
  "kernelspec": {
   "display_name": "Python 2",
   "language": "python",
   "name": "python2"
  },
  "language_info": {
   "codemirror_mode": {
    "name": "ipython",
    "version": 2
   },
   "file_extension": ".py",
   "mimetype": "text/x-python",
   "name": "python",
   "nbconvert_exporter": "python",
   "pygments_lexer": "ipython2",
   "version": "2.7.12"
  }
 },
 "nbformat": 4,
 "nbformat_minor": 0
}
